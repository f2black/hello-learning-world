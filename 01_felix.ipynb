{
 "cells": [
  {
   "cell_type": "code",
   "execution_count": 1,
   "metadata": {
    "collapsed": false
   },
   "outputs": [
    {
     "name": "stdout",
     "output_type": "stream",
     "text": [
      "----------------------------------------------------------------------------------------------------\n",
      "1：初级\n",
      "2：二级\n",
      "3: 三级\n",
      "----------------------------------------------------------------------------------------------------\n",
      "请难度：1\n",
      "----------------------------------------------------------------------------------------------------\n",
      "1：凑10加法\n",
      "2：10以内加法\n",
      "3：九九乘法\n",
      "4：九九乘法(横)\n",
      "5：10以内自然数连加\n",
      "6：10以内平方数\n",
      "7：20以内平方数\n",
      "----------------------------------------------------------------------------------------------------\n",
      "请输入题目编号：2\n",
      "1＋1=2\n",
      "1＋2=3\n",
      "1＋3=\n",
      "请输入数字，如要退出，请输入字母q\n",
      "1＋3=4\n",
      "1＋4=5\n",
      "1＋5=6\n",
      "1＋6=7\n",
      "1＋7=8\n",
      "1＋8=9\n",
      "1＋9=10\n",
      "2＋2=4\n",
      "2＋3=5\n",
      "2＋4=6\n",
      "2＋5=7\n",
      "2＋6=8\n",
      "2＋7=9\n",
      "2＋8=10\n",
      "2＋9=11\n",
      "3＋3=6\n",
      "3＋4=7\n",
      "3＋5=8\n",
      "3＋6=\n",
      "请输入数字，如要退出，请输入字母q\n",
      "3＋6=9\n",
      "3＋7=10\n",
      "3＋8=11\n",
      "3＋9=12\n",
      "4＋4=8\n",
      "4＋5=9\n",
      "4＋6=10\n",
      "4＋7=11\n",
      "4＋8=12\n",
      "4＋9=12\n",
      "5＋5=10\n",
      "5＋6=11\n",
      "5＋7=12\n",
      "5＋8=13\n",
      "5＋9=14\n",
      "6＋6=12\n",
      "6＋7=13\n",
      "6＋8=14\n",
      "6＋9=15\n",
      "7＋7=14\n",
      "7＋8=15\n",
      "7＋9=16\n",
      "8＋8=16\n",
      "8＋9=17\n",
      "9＋9=18\n",
      "----------------------------------------------------------------------------------------------------\n",
      "以下题目答错，请再仔细算算看：\n",
      "4＋9=\n",
      "本次总共用时122秒, 平均每道题用时2.72秒，正确率97.78%\n",
      "----------------------------------------------------------------------------------------------------\n",
      "耗时Top3:\n",
      "2＋8=                : 平均用时:4.11\n",
      "3＋3=                : 平均用时:3.44\n",
      "2＋9=                : 平均用时:3.20\n",
      "----------------------------------------------------------------------------------------------------\n",
      "错误Top1:\n",
      "4＋9=                : 错误次数:1\n",
      "----------------------------------------------------------------------------------------------------\n"
     ]
    },
    {
     "data": {
      "image/png": "[encoded data removed]",
      "text/plain": [
       "<matplotlib.figure.Figure at 0x25ffad69630>"
      ]
     },
     "metadata": {},
     "output_type": "display_data"
    }
   ],
   "source": [
    "from speedcalc import level_select\n",
    "%matplotlib inline\n",
    "level_select('felix')"
   ]
  },
  {
   "cell_type": "markdown",
   "metadata": {
    "collapsed": true
   },
   "source": [
    "# "
   ]
  },
  {
   "cell_type": "code",
   "execution_count": null,
   "metadata": {
    "collapsed": true
   },
   "outputs": [],
   "source": []
  },
  {
   "cell_type": "code",
   "execution_count": null,
   "metadata": {
    "collapsed": true
   },
   "outputs": [],
   "source": []
  },
  {
   "cell_type": "code",
   "execution_count": null,
   "metadata": {
    "collapsed": true
   },
   "outputs": [],
   "source": []
  },
  {
   "cell_type": "code",
   "execution_count": null,
   "metadata": {
    "collapsed": true
   },
   "outputs": [],
   "source": []
  }
 ],
 "metadata": {
  "anaconda-cloud": {},
  "kernelspec": {
   "display_name": "Python [Root]",
   "language": "python",
   "name": "Python [Root]"
  },
  "language_info": {
   "codemirror_mode": {
    "name": "ipython",
    "version": 3
   },
   "file_extension": ".py",
   "mimetype": "text/x-python",
   "name": "python",
   "nbconvert_exporter": "python",
   "pygments_lexer": "ipython3",
   "version": "3.5.2"
  }
 },
 "nbformat": 4,
 "nbformat_minor": 0
}
